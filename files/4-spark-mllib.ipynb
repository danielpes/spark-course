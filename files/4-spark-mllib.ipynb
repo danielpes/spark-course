{
 "cells": [
  {
   "cell_type": "markdown",
   "metadata": {},
   "source": [
    "# 4. Machine learning with Spark MLlib\n",
    "\n",
    "For this last lab, there will be no \"walkthrough\", you will be free to do your own machine learning project, as long as you follow these guidelines:\n",
    "\n",
    "1. Choose **any** dataset from http://archive.ics.uci.edu/ml/index.php\n",
    "2. Download the dataset file and upload to Databricks\n",
    "3. Your solution notebook must have a part using RDDs, including **at least** the following steps:\n",
    "  1. Reading the file into an RDD\n",
    "  2. Converting into MLlib matrix or RDD of vectors\n",
    "  3. Applying some statistics with the  MLlib's RDD API\n",
    "  4. Learning a classification or regression model with the RDD API\n",
    "  5. Applying the model to the test data and computing the errors\n",
    "4. It also must include a part using DataFrames, including **at least** the following steps:\n",
    "  1. Reading the file into a DataFrame:\n",
    "  2. Running some aggregations and explorations using DataFrame functions (not MLlib!) \n",
    "  3. Creating a pipeline with **at least** one feature extraction/manipulation and one model estimator\n",
    "  4. Fitting the pipeline to the training data\n",
    "  5. Applying the model to the test data and computing the errors\n",
    "  \n",
    "Notes: \n",
    "  - Don't forget to split your data into training and test (and validation if you want) sets\n",
    "  - You can start with the DataFrame part, if you want (I actually recommend doing it; it's easier to explore and understand the data using DFs)\n",
    "  - You can do this project in groups of **2 members**\n",
    "  - I'll accept submissions by e-mail until **Thursday 21/02 23h59**\n",
    "  - All submissions after the deadlines won't be considered\n",
    "    - **It's much better to submit an incomplete solution than nothing at all!**\n",
    "  - If you have any question or problem, don't hesitate to send me an e-mail; I try to answer as quickly as possible (usually under 24h)\n",
    "  \n",
    "Resources:\n",
    "  - [Spark MLlib guide](https://spark.apache.org/docs/latest/ml-guide.html)\n",
    "  - [Databricks MLlib guide](https://docs.databricks.com/spark/latest/mllib/index.html#)\n",
    "  - [pyspark MLlib RDD API docs](https://spark.apache.org/docs/latest/api/python/pyspark.mllib.html)\n",
    "  - [pyspark MLlib DataFrame API docs](https://spark.apache.org/docs/latest/api/python/pyspark.ml.html)\n",
    "  - [pyspark complete docs](https://spark.apache.org/docs/latest/api/python/)\n",
    "  - [Course Homepage](https://danielpes.github.io/SparkCourse/)\n",
    "  \n",
    "### May the force be with you!"
   ]
  }
 ],
 "metadata": {
  "kernelspec": {
   "display_name": "Python [default]",
   "language": "python",
   "name": "python3"
  },
  "language_info": {
   "codemirror_mode": {
    "name": "ipython",
    "version": 3
   },
   "file_extension": ".py",
   "mimetype": "text/x-python",
   "name": "python",
   "nbconvert_exporter": "python",
   "pygments_lexer": "ipython3",
   "version": "3.5.3"
  },
  "name": "4-spark-mllib",
  "notebookId": 832825832231321
 },
 "nbformat": 4,
 "nbformat_minor": 2
}
