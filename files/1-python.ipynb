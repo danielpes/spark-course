{
 "cells": [
  {
   "cell_type": "markdown",
   "metadata": {},
   "source": [
    "# Notebook 1: Python Overview\n",
    "\n",
    "## Motivations\n",
    "\n",
    "Spark provides multiple *Application Programming Interfaces* (API), i.e. the interface allowing the user to interact with the application. The main APIs are [Scala](http://spark.apache.org/docs/latest/api/scala/index.html#org.apache.spark.package) and [Java](http://spark.apache.org/docs/latest/api/java/index.html) APIs, as Spark is implemented in Scala and runs on the Java Virtual Machine (JVM).\n",
    "Since the 0.7.0 version, a [Python API](http://spark.apache.org/docs/latest/api/python/index.html) is available, also known as PySpark. An [R API](http://spark.apache.org/docs/latest/api/R/index.html) has been released with 1.5.0 version. During this course, you will be using Spark 2.3.\n",
    "\n",
    "Throughout this course we will use the Python API for the following reasons:\n",
    "- R API is still too young and limited to be relied on. Besides, R can quickly become a living hell when using immature libraries.\n",
    "- Many of you are wanabee datascientists, and Python is a must-know language in data industry.\n",
    "- Scala and Java APIs would have been quite hard to learn given the length of the course and your actual programming skills.\n",
    "- Python is easy to learn, and even easier if you are already familiar with R.\n",
    "\n",
    "The goal of this session is to teach (or remind) you the syntax of basic operations, control structures and declarations in Python that will be useful when using Spark. Keep in mind that we do not have a lot of time, and that you should be able to create functions and classes and to manipulate them at the end of the lab. If you don't get that, the rest of the course will be hard to follow. Don't hesitate to ask for explanations and/or more exercises if you don't feel  confident enough at the end of the lab.\n",
    "\n",
    "\n",
    "*This introduction relies on [Learn Python in Y minutes](https://learnxinyminutes.com/docs/python/)*\n",
    "\n",
    "## Introduction\n",
    "\n",
    "Python is a high level, general-purpose interpreted language. Python is meant to be very concise and readable, it is thus a very pleasant language to work with. \n",
    "\n",
    "## 1. Primitive Datatypes and Operators\n",
    "### Points: 1 pt\n",
    "Read section 1 of [Learn python in Y Minutes](https://learnxinyminutes.com/docs/python/) (if you already know Python, you can skip this step). Then, replace `???` in the following cells with your code to answer the questions. To get started, please run the following cell."
   ]
  },
  {
   "cell_type": "code",
   "execution_count": 5,
   "metadata": {
    "collapsed": true
   },
   "outputs": [],
   "source": [
    "# Run this cell, it loads a Test object\n",
    "# that will allow you to check your code\n",
    "# for some questions.\n",
    "import unittest\n",
    "\n",
    "test = unittest.TestCase()"
   ]
  },
  {
   "cell_type": "markdown",
   "metadata": {},
   "source": [
    "Compute 4 + 8"
   ]
  },
  {
   "cell_type": "code",
   "execution_count": null,
   "metadata": {},
   "outputs": [],
   "source": [
    "???"
   ]
  },
  {
   "cell_type": "markdown",
   "metadata": {},
   "source": [
    "Compute 4 * 8"
   ]
  },
  {
   "cell_type": "code",
   "execution_count": null,
   "metadata": {
    "collapsed": false
   },
   "outputs": [],
   "source": [
    "???"
   ]
  },
  {
   "cell_type": "markdown",
   "metadata": {},
   "source": [
    "Compute 4 / 8 (using the regular division operation, not integer division)"
   ]
  },
  {
   "cell_type": "code",
   "execution_count": null,
   "metadata": {
    "collapsed": false
   },
   "outputs": [],
   "source": [
    "???"
   ]
  },
  {
   "cell_type": "markdown",
   "metadata": {},
   "source": [
    "Check if the variable `foo` is None:"
   ]
  },
  {
   "cell_type": "code",
   "execution_count": null,
   "metadata": {
    "collapsed": false
   },
   "outputs": [],
   "source": [
    "foo = None\n",
    "foo ??? None  # => True"
   ]
  },
  {
   "cell_type": "markdown",
   "metadata": {},
   "source": [
    "## 2. Variables and Collections\n",
    "### Points: 2 pts\n",
    "### Bonus: 2 pts\n",
    "Same as before, read the corresponding section, and answer the questions below."
   ]
  },
  {
   "cell_type": "markdown",
   "metadata": {},
   "source": [
    "From now on, when you will be asked to print something, please use the print statement.\n",
    "\n",
    "Declare a variable containing a float of your choice and print it."
   ]
  },
  {
   "cell_type": "code",
   "execution_count": null,
   "metadata": {
    "collapsed": false
   },
   "outputs": [],
   "source": [
    "???"
   ]
  },
  {
   "cell_type": "code",
   "execution_count": null,
   "metadata": {
    "collapsed": false
   },
   "outputs": [],
   "source": [
    "# Create a list containing strings and store it in a variable\n",
    "bar = ???\n",
    "# Append a new string to this list\n",
    "???\n",
    "# Append an integer to this list and print it\n",
    "???\n",
    "print(bar)"
   ]
  },
  {
   "cell_type": "markdown",
   "metadata": {},
   "source": [
    "Note that the modifications on list objects are performed inplace, i.e.\n",
    "\n",
    "    li = [1, 2, 3]\n",
    "    li.append(4)\n",
    "    li  # => [1, 2, 3, 4]"
   ]
  },
  {
   "cell_type": "code",
   "execution_count": null,
   "metadata": {
    "collapsed": false
   },
   "outputs": [],
   "source": [
    "# Mixing types inside a list object can be a bad idea depending on the situation.\n",
    "# Remove the integer you just inserted in the list and print it\n",
    "???\n",
    "print(bar)"
   ]
  },
  {
   "cell_type": "code",
   "execution_count": null,
   "metadata": {
    "collapsed": false
   },
   "outputs": [],
   "source": [
    "# Print the second element of the list\n",
    "print(???)"
   ]
  },
  {
   "cell_type": "markdown",
   "metadata": {},
   "source": [
    "You can access list elements in reverse order, e.g.\n",
    "\n",
    "    li[-1]  # returns the last element of the list\n",
    "    li[-2]  # returns the second last element of the list\n",
    "    \n",
    "and so on..."
   ]
  },
  {
   "cell_type": "code",
   "execution_count": null,
   "metadata": {
    "collapsed": false
   },
   "outputs": [],
   "source": [
    "# Extend your list with new_list and print it\n",
    "new_list = [\"We\", \"are\", \"the\", \"knights\", \"who\", \"say\", \"Ni\", \"!\"]\n",
    "???\n",
    "print(bar)"
   ]
  },
  {
   "cell_type": "code",
   "execution_count": null,
   "metadata": {
    "collapsed": false
   },
   "outputs": [],
   "source": [
    "# Replace \"Ni\" by \"Ekke Ekke Ekke Ekke Ptang Zoo Boing\" in the list and print it\n",
    "???\n",
    "print(bar)"
   ]
  },
  {
   "cell_type": "code",
   "execution_count": null,
   "metadata": {
    "collapsed": false
   },
   "outputs": [],
   "source": [
    "# Compute the length of the list and print it\n",
    "???"
   ]
  },
  {
   "cell_type": "markdown",
   "metadata": {},
   "source": [
    "What is the difference between lists and tuples?\n",
    "\n",
    "\n",
    "*short* answer here"
   ]
  },
  {
   "cell_type": "code",
   "execution_count": null,
   "metadata": {
    "collapsed": true
   },
   "outputs": [],
   "source": [
    "# Create a dictionary containing the following mapping:\n",
    "# \"one\" : 1\n",
    "# \"two\" : 2\n",
    "# etc. until you reach \"five\" : 5\n",
    "baz = ???"
   ]
  },
  {
   "cell_type": "code",
   "execution_count": null,
   "metadata": {
    "collapsed": false
   },
   "outputs": [],
   "source": [
    "# Check if the key \"four\" is contained in the dict\n",
    "# If four is contained in the dict, print the associated value\n",
    "???"
   ]
  },
  {
   "cell_type": "markdown",
   "metadata": {},
   "source": [
    "First, make each letter in gibberish appear once using a collection."
   ]
  },
  {
   "cell_type": "code",
   "execution_count": null,
   "metadata": {},
   "outputs": [],
   "source": [
    "gibberish = list(\"fqfgsrhrfeqluihjgrshioprqoqeionfvnorfiqeo\")\n",
    "\n",
    "# Answer here"
   ]
  },
  {
   "cell_type": "markdown",
   "metadata": {},
   "source": [
    "*BONUS*: +2 pts Find all the unique letters contained in gibberish. Your answer must fits in one line."
   ]
  },
  {
   "cell_type": "code",
   "execution_count": null,
   "metadata": {},
   "outputs": [],
   "source": [
    "# Hint: this import will help you with the bonus.\n",
    "\n",
    "from collections import Counter"
   ]
  },
  {
   "cell_type": "code",
   "execution_count": null,
   "metadata": {
    "collapsed": false
   },
   "outputs": [],
   "source": [
    "test.assertEqual(set(unique_letters), set('vjlup'), 'unique letters')"
   ]
  },
  {
   "cell_type": "markdown",
   "metadata": {},
   "source": [
    "You should now be able to answer the following problem using dictionaries, lists and sets. Imagine you owe money to your friends because your forgot your credit card last time you went out for drinks. You want to remember how much you owe to each of them in order to refund them later. Which data structure would be useful to store this information? Use this data structure and fill it in with some debt data in the cell below:"
   ]
  },
  {
   "cell_type": "code",
   "execution_count": null,
   "metadata": {
    "collapsed": true
   },
   "outputs": [],
   "source": [
    "debts = ???"
   ]
  },
  {
   "cell_type": "markdown",
   "metadata": {},
   "source": [
    "Another party night with more people, yet you forgot your credit card again... You meet new friends who buy you drinks. Create the same data structure as above with different data, i.e. include friends that were not here during the first party."
   ]
  },
  {
   "cell_type": "code",
   "execution_count": null,
   "metadata": {
    "collapsed": true
   },
   "outputs": [],
   "source": [
    "debts_2 = ???"
   ]
  },
  {
   "cell_type": "markdown",
   "metadata": {},
   "source": [
    "Count the number of new friends you made that second night. Print the name of the friends who bought you drinks during the second party, but not during the first."
   ]
  },
  {
   "cell_type": "code",
   "execution_count": null,
   "metadata": {
    "collapsed": false
   },
   "outputs": [],
   "source": [
    "new_friends = ??? # should fit in one line\n",
    "nb_new_friends = ??? # should fit in one line\n",
    "print(new_friends)"
   ]
  },
  {
   "cell_type": "markdown",
   "metadata": {},
   "source": [
    "## 3. Control flow\n",
    "### Points: 3 pts\n",
    "Same as before, read the corresponding section, and answer the questions below.\n",
    "You can skip the paragraph on exceptions for now."
   ]
  },
  {
   "cell_type": "code",
   "execution_count": null,
   "metadata": {
    "collapsed": false
   },
   "outputs": [],
   "source": [
    "# Code the following:\n",
    "# if you have made more than 5 friends that second night, \n",
    "# print \"Yay! I'm super popular!\", else, print \"Duh...\"\n",
    "???"
   ]
  },
  {
   "cell_type": "code",
   "execution_count": null,
   "metadata": {
    "collapsed": false
   },
   "outputs": [],
   "source": [
    "# Now, thank each new friend iteratively, i.e.\n",
    "# print \"Thanks <name of the friend>!\" using loops and string formatting (cf. section 1)\n",
    "???"
   ]
  },
  {
   "cell_type": "code",
   "execution_count": null,
   "metadata": {
    "collapsed": false
   },
   "outputs": [],
   "source": [
    "# Sum all the number from 0 to 15 (included) using what we've seen so far (i.e. without the function sum() )\n",
    "sum_to_fifteen = 0\n",
    "???\n",
    "    \n",
    "test.assertEquals(sum_to_fifteen, 120)"
   ]
  },
  {
   "cell_type": "code",
   "execution_count": null,
   "metadata": {
    "collapsed": false
   },
   "outputs": [],
   "source": [
    "# Note: you can break a loop with the break statement\n",
    "for i in range(136):\n",
    "    print i\n",
    "    if i >= 2:\n",
    "        break"
   ]
  },
  {
   "cell_type": "code",
   "execution_count": null,
   "metadata": {
    "collapsed": false
   },
   "outputs": [],
   "source": [
    "# enumerate function can be very useful when dealing with iterators:\n",
    "for i, value in enumerate([\"a\", \"b\", \"c\"]):\n",
    "    print(value, i)"
   ]
  },
  {
   "cell_type": "markdown",
   "metadata": {},
   "source": [
    "__Q__: Find a Python function that allows to iterate over two collections in the same time stopping when the smallest collection is finished."
   ]
  },
  {
   "cell_type": "markdown",
   "metadata": {},
   "source": [
    "## 4. Functions\n",
    "\n",
    "### Points: 5,5 pts\n",
    "Things are becoming more interesting. Read section 4. It's ok if you don't get the args/kwargs part. Be sure to understand basic function declaration and anonymous function declaration. Higher order functions, maps, and filters that will be covered during the next lab use massively lambda functions.\n",
    "\n",
    "Write a Python function that checks whether a passed string is palindrome or not. Note: a palindrome is a word, phrase, or sequence that reads the same backward and forward, e.g. \"madam\" or \"nurses run\". Hint: strings are lists of characters e.g.\n",
    "\n",
    "    a = \"abcdef\"\n",
    "    a[2] => c\n",
    "    \n",
    "If needed, here are [some tips about string manipulation](http://www.pythonforbeginners.com/basics/string-manipulation-in-python)."
   ]
  },
  {
   "cell_type": "code",
   "execution_count": null,
   "metadata": {
    "collapsed": false
   },
   "outputs": [],
   "source": [
    "def isPalindrome(string_input):\n",
    "    ???\n",
    "\n",
    "test.assertEqual(isPalindrome('aza'), True, \"Simple palindrome\") \n",
    "test.assertEqual(isPalindrome('nurses run'), True, \"Palindrome containing a space\") \n",
    "test.assertEqual(isPalindrome('palindrome'), False, \"Not a palindrome\") "
   ]
  },
  {
   "cell_type": "markdown",
   "metadata": {},
   "source": [
    "Write a Python function to check whether a string is pangram or not. Note: pangrams are words or sentences containing every letter of the alphabet at least once. For example: \"The quick brown fox jumps over the lazy dog\".\n",
    "\n",
    "[Hint](https://docs.python.org/2/library/stdtypes.html#set-types-set-frozenset)"
   ]
  },
  {
   "cell_type": "code",
   "execution_count": null,
   "metadata": {
    "collapsed": false
   },
   "outputs": [],
   "source": [
    "import string\n",
    "\n",
    "# In this function, \"alphabet\" argument has a default value: string.ascii_lowercase\n",
    "# string.ascii_lowercase contains all the letters in lowercase.\n",
    "def ispangram(string_input, alphabet=string.ascii_lowercase):  \n",
    "    ??? \n",
    "\n",
    "    \n",
    "\n",
    "test.assertEqual(ispangram('The quick brown fox jumps over the lazy dog'), True, \"Pangram\")\n",
    "test.assertEqual(ispangram('The quick red fox jumps over the lazy dog'), False, \"Pangram\")   "
   ]
  },
  {
   "cell_type": "markdown",
   "metadata": {},
   "source": [
    "### Python lambda expressions\n",
    "\n",
    "When evaluated, lambda expressions return an anonymous function, i.e. a function that is not bound to any variable (hence the \"anonymous\"). However, it is possible to assign the function to a variable. Lambda expressions are particularly useful when you need to pass a simple function into another function. To create lambda functions, we use the following syntax\n",
    "\n",
    "    lambda argument1, argument2, argument3, etc. : body_of_the_function\n",
    "\n",
    "For example, a function which takes a number and returns its square would be\n",
    "\n",
    "    lambda x: x**2\n",
    "    \n",
    "A function that takes two numbers and returns their sum:\n",
    "\n",
    "    lambda x, y: x + y\n",
    "    \n",
    "`lambda` generates a function and returns it, while `def` generates a function and assigns it to a name.  The function returned by `lambda` also automatically returns the value of its expression statement, which reduces the amount of code that needs to be written.\n",
    "\n",
    "Here are some additional references that explain lambdas: [Lambda Functions](http://www.secnetix.de/olli/Python/lambda_functions.hawk), [Lambda Tutorial](https://pythonconquerstheuniverse.wordpress.com/2011/08/29/lambda_tutorial/), and [Python Functions](http://www.bogotobogo.com/python/python_functions_lambda.php).\n",
    "\n",
    "Here is an example:"
   ]
  },
  {
   "cell_type": "code",
   "execution_count": null,
   "metadata": {
    "collapsed": false
   },
   "outputs": [],
   "source": [
    "# Function declaration using def\n",
    "def add_s(x):\n",
    "    return x + 's'\n",
    "\n",
    "print(type(add_s))\n",
    "print(add_s)\n",
    "print(add_s('dog'))"
   ]
  },
  {
   "cell_type": "code",
   "execution_count": null,
   "metadata": {
    "collapsed": false
   },
   "outputs": [],
   "source": [
    "# Same function declared as a lambda\n",
    "add_s_lambda = lambda x: x + 's'\n",
    "print(type(add_s_lambda))\n",
    "print(add_s_lambda)  # Note that the function shows its name as <lambda>\n",
    "print(add_s_lambda('dog'))"
   ]
  },
  {
   "cell_type": "code",
   "execution_count": null,
   "metadata": {
    "collapsed": false
   },
   "outputs": [],
   "source": [
    "# Code a function using a lambda expression which takes\n",
    "# a number and returns this number multiplied by two.\n",
    "multiply_by_two = lambda ???\n",
    "print(multiply_by_two(5))\n",
    "\n",
    "Test.assertEqual(multiply_by_two(10), 20, 'incorrect definition for multiply_by_two')"
   ]
  },
  {
   "cell_type": "markdown",
   "metadata": {},
   "source": [
    "Observe the behavior of the following code:"
   ]
  },
  {
   "cell_type": "code",
   "execution_count": null,
   "metadata": {
    "collapsed": false
   },
   "outputs": [],
   "source": [
    "def add(x, y):\n",
    "    \"\"\"Add two values\"\"\"\n",
    "    return x + y\n",
    "\n",
    "def sub(x, y):\n",
    "    \"\"\"Substract y from x\"\"\"\n",
    "    return x - y\n",
    "\n",
    "functions = [add, sub]\n",
    "print(functions[0](1, 2))\n",
    "print(functions[1](3, 4))"
   ]
  },
  {
   "cell_type": "markdown",
   "metadata": {},
   "source": [
    "Code the same functionality, using lambda expressions:"
   ]
  },
  {
   "cell_type": "code",
   "execution_count": 7,
   "metadata": {
    "collapsed": false
   },
   "outputs": [],
   "source": [
    "lambda_functions = [lambda ??? ,  lambda ???]\n",
    "\n",
    "test.assertEqual(lambda_functions[0](1, 2), 3, 'add lambda_function')\n",
    "test.assertEqual(lambda_functions[1](3, 4), -1, 'sub lambda_function')"
   ]
  },
  {
   "cell_type": "code",
   "execution_count": 11,
   "metadata": {
    "collapsed": false
   },
   "outputs": [
    {
     "name": "stdout",
     "output_type": "stream",
     "text": [
      "add_two_1((1,2), (3,4)) = (4, 6)\n",
      "add_two_2((1,2), (3,4)) = (4, 6)\n"
     ]
    }
   ],
   "source": [
    "# Example:\n",
    "add_two_1 = lambda x, y: (x[0] + y[0], x[1] + y[1])\n",
    "add_two_2 = lambda x0, x1, y0, y1: (x0 + y0, x1 + y1)\n",
    "print('add_two_1((1,2), (3,4)) = {0}'.format(add_two_1((1,2), (3,4))))\n",
    "print('add_two_2((1,2), (3,4)) = {0}'.format(add_two_2(1, 2, 3, 4)))"
   ]
  },
  {
   "cell_type": "code",
   "execution_count": null,
   "metadata": {},
   "outputs": [],
   "source": [
    "reverse2 = lambda x0, x1, x2: x0+x1+x2"
   ]
  },
  {
   "cell_type": "code",
   "execution_count": null,
   "metadata": {},
   "outputs": [],
   "source": [
    "reverse2(1, 2, 3)"
   ]
  },
  {
   "cell_type": "code",
   "execution_count": null,
   "metadata": {
    "collapsed": false
   },
   "outputs": [],
   "source": [
    "# Use both syntaxes to create a function that takes in a tuple of three values and reverses their order\n",
    "# E.g. (1, 2, 3) => (3, 2, 1)\n",
    "reverse1 = lambda x: ???\n",
    "reverse2 = lambda (x0, x1, x2): ???\n",
    "\n",
    "Test.assertEqual(reverse1((1, 2, 3)), (3, 2, 1), 'reverse order, syntax 1')\n",
    "Test.assertEqual(reverse2((1, 2, 3)), (3, 2, 1), 'reverse order, syntax 2')"
   ]
  },
  {
   "cell_type": "markdown",
   "metadata": {},
   "source": [
    "Lambda expressions allow you to reduce the size of your code, but they are limited to simple logic. The following Python keywords refer to statements that cannot be used in a lambda expression: `assert`, `pass`, `del`, `print`, `return`, `yield`, `raise`, `break`, `continue`, `import`, `global`, and `exec`.  Assignment statements (`=`) and augmented assignment statements (e.g. `+=`) cannot be used either. If more complex logic is necessary, use `def` in place of `lambda`."
   ]
  },
  {
   "cell_type": "markdown",
   "metadata": {},
   "source": [
    "## 5. Classes\n",
    "### Points: 4,5 pts\n",
    "\n",
    "Classes allow you to create objects. Object Oriented Programming (OOP) can be a very powerful paradigm. If done well, OOP  allows you to improve the modularity and reusability of your code, but that's the subject of an entire other course. \n",
    "Here is a *very* short introduction to it.\n",
    "\n",
    "By convention, class names are written in camel case, e.g. `MyBeautifulClass`, while variable and function names are written in snake case, e.g. `my_variable`, `my_very_complex_function`\n",
    "\n",
    "Classes contain methods (i.e. functions owned by the class) and attributes (i.e. variables owned by the class). \n",
    "When you define a class, first thing to do is to define a specific method, the constructor. In Python, the constructor is called `__init__`. This method is used to create the instances of an object. Example:\n",
    "\n",
    "    class MyClass:\n",
    "    \n",
    "        def __init__(self, first_attribute, second_attribute):\n",
    "            self.first_attribute = first_attribute\n",
    "            self.second_attribute = second_attribute\n",
    "            \n",
    "This class has two attributes, and one (hidden) method, the constructor. To create an instance of this class, one simply does:\n",
    "\n",
    "    instance_example = MyClass(1, \"foo\")\n",
    "    \n",
    "Then, the attributes can easily be accessed to:\n",
    "\n",
    "    instance_example.first_attribute  # => 1\n",
    "    instance_example.first_attribute  # => \"foo\""
   ]
  },
  {
   "cell_type": "code",
   "execution_count": null,
   "metadata": {
    "collapsed": false
   },
   "outputs": [],
   "source": [
    "# Run this example\n",
    "class MyClass:\n",
    "    \n",
    "    def __init__(self, first_attribute, second_attribute):\n",
    "        self.first_attribute = first_attribute\n",
    "        self.second_attribute = second_attribute\n",
    "            \n",
    "instance_example = MyClass(1, \"foo\") \n",
    "print(instance_example.first_attribute)\n",
    "instance_example.__init__(3,4)  # In real life, it is rare to reinit an object.\n",
    "print(instance_example.first_attribute)"
   ]
  },
  {
   "cell_type": "markdown",
   "metadata": {},
   "source": [
    "`self` denotes the object itself. When you declare a method, you have to pass `self` as the first argument of the method:\n",
    "\n",
    "class MyClass:\n",
    "    \n",
    "    def __init__(self, first_attribute, second_attribute):\n",
    "        self.first_attribute = first_attribute\n",
    "        self.second_attribute = second_attribute\n",
    "   \n",
    "    def method_baz(self):\n",
    "        print \"Hello! I'm a method! I have two attributes, initialized with values %s, %s\"%(self.first_attribute, self.second_attribute)\n",
    "        \n",
    "indeed, when we call\n",
    "    \n",
    "    instance_example = MyClass(1, \"foo\") \n",
    "    instance_example.method_baz()\n",
    "    \n",
    "the `self` object is implicitely passed to `method_baz`as an argument. Think of the method call as the following function call\n",
    "\n",
    "    method_baz(instance_example)"
   ]
  },
  {
   "cell_type": "code",
   "execution_count": null,
   "metadata": {
    "collapsed": false
   },
   "outputs": [],
   "source": [
    "# Run this example\n",
    "class MyClass:\n",
    "    \n",
    "    def __init__(self, first_attribute, second_attribute):\n",
    "        self.first_attribute = first_attribute\n",
    "        self.second_attribute = second_attribute\n",
    "    \n",
    "    def class_method(self):\n",
    "        print(\"Hello! I'm a method! My class has two attributes, of value {0}, {1}\".format(self.first_attribute, self.second_attribute))\n",
    "            \n",
    "instance_example = MyClass(1, \"foo\") \n",
    "# Call to a class method\n",
    "instance_example.class_method()"
   ]
  },
  {
   "cell_type": "markdown",
   "metadata": {},
   "source": [
    "Now, the tricky part. You can declare **static** methods, i.e. methods that don't need to access the data contained in `self` to work properly. Such methods do not require the `self` argument as they do not use any instance data. They are implemented in the following way:"
   ]
  },
  {
   "cell_type": "code",
   "execution_count": 14,
   "metadata": {
    "collapsed": false
   },
   "outputs": [
    {
     "name": "stdout",
     "output_type": "stream",
     "text": [
      "Hello! I'm a method! My class has two attributes, of value 1, foo\n",
      "I'm a static method!\n"
     ]
    }
   ],
   "source": [
    "# Run this example\n",
    "class MyClass:\n",
    "    \n",
    "    def __init__(self, first_attribute, second_attribute):\n",
    "        self.first_attribute = first_attribute\n",
    "        self.second_attribute = second_attribute\n",
    "    \n",
    "    def class_method(self):\n",
    "        print(\"Hello! I'm a method! My class has two attributes, of value {0}, {1}\".format(self.first_attribute, self.second_attribute))\n",
    "         \n",
    "    @staticmethod\n",
    "    def static_method():\n",
    "        print(\"I'm a static method!\")\n",
    "            \n",
    "instance_example = MyClass(1, \"foo\") \n",
    "# Call to a class method\n",
    "instance_example.class_method()\n",
    "# Call to a static method\n",
    "instance_example.static_method()"
   ]
  },
  {
   "cell_type": "code",
   "execution_count": 15,
   "metadata": {
    "collapsed": false
   },
   "outputs": [
    {
     "name": "stdout",
     "output_type": "stream",
     "text": [
      "I'm a static method!\n"
     ]
    }
   ],
   "source": [
    "# Call to a static method without class instanciation\n",
    "MyClass.static_method()"
   ]
  },
  {
   "cell_type": "code",
   "execution_count": 16,
   "metadata": {
    "collapsed": false
   },
   "outputs": [
    {
     "ename": "TypeError",
     "evalue": "class_method() missing 1 required positional argument: 'self'",
     "output_type": "error",
     "traceback": [
      "\u001b[0;31m---------------------------------------------------------------------------\u001b[0m",
      "\u001b[0;31mTypeError\u001b[0m                                 Traceback (most recent call last)",
      "\u001b[0;32m<ipython-input-16-bfea766d91df>\u001b[0m in \u001b[0;36m<module>\u001b[0;34m()\u001b[0m\n\u001b[1;32m      1\u001b[0m \u001b[0;31m# Call to a class method without class instanciation: raises an error\u001b[0m\u001b[0;34m\u001b[0m\u001b[0;34m\u001b[0m\u001b[0m\n\u001b[0;32m----> 2\u001b[0;31m \u001b[0mMyClass\u001b[0m\u001b[0;34m.\u001b[0m\u001b[0mclass_method\u001b[0m\u001b[0;34m(\u001b[0m\u001b[0;34m)\u001b[0m\u001b[0;34m\u001b[0m\u001b[0m\n\u001b[0m\u001b[1;32m      3\u001b[0m \u001b[0;31m# => TypeError: unbound method class_method() must be called with MyClass instance as first argument (got nothing instead)\u001b[0m\u001b[0;34m\u001b[0m\u001b[0;34m\u001b[0m\u001b[0m\n",
      "\u001b[0;31mTypeError\u001b[0m: class_method() missing 1 required positional argument: 'self'"
     ]
    }
   ],
   "source": [
    "# Call to a class method without class instanciation: raises an error\n",
    "MyClass.class_method()\n",
    "# => TypeError: unbound method class_method() must be called with MyClass instance as first argument (got nothing instead)"
   ]
  },
  {
   "cell_type": "markdown",
   "metadata": {},
   "source": [
    "You can set attributes without passing them to the constructor:"
   ]
  },
  {
   "cell_type": "code",
   "execution_count": null,
   "metadata": {
    "collapsed": false
   },
   "outputs": [],
   "source": [
    "# Run this example\n",
    "class MyClass:\n",
    "    \n",
    "    default_attribute = 42\n",
    "    \n",
    "    def __init__(self, first_attribute, second_attribute):\n",
    "        self.first_attribute = first_attribute\n",
    "        self.second_attribute = second_attribute\n",
    "    \n",
    "    def method_baz(self):\n",
    "        print(\"Hello! I'm a method! I have two attributes, initialized with values %s, %s\"%(self.first_attribute, self.second_attribute))\n",
    "        \n",
    "    @staticmethod\n",
    "    def static_method():\n",
    "        print(\"I'm a static method!\")\n",
    "            \n",
    "instance_example = MyClass(1, \"foo\") \n",
    "print(instance_example.default_attribute)"
   ]
  },
  {
   "cell_type": "code",
   "execution_count": null,
   "metadata": {
    "collapsed": false
   },
   "outputs": [],
   "source": [
    "# Write a Python class named Rectangle which is \n",
    "# constructed by a length and width \n",
    "# and has two class methods\n",
    "# - \"rectange_area\", which computes the area of a rectangle.\n",
    "# - \"rectangle_perimeter\", which computes the perimeter of a rectangle.\n",
    "#\n",
    "# The Rectangle class should have an attribute n_edges equal to 4\n",
    "# which should not be initialized by the __init__ constructor.\n",
    "#\n",
    "# Declare a static method \"talk\" that returns \"Do you like rectangles?\" when called\n",
    "\n",
    "class Rectangle: \n",
    "    \n",
    "    ???\n",
    "\n",
    "\n",
    "new_rectangle = Rectangle(12, 10)\n",
    "test.assertEqual(new_rectangle.rectangle_area(), 120, \"rectangle_area method\")\n",
    "test.assertEqual(new_rectangle.rectangle_perimeter(), 44, \"rectangle_area method\")\n",
    "test.assertEqual(Rectangle.n_edges, 4, \"constant attibute\")\n",
    "test.assertEqual(Rectangle.talk(), \"Do you like rectangles?\", \"Rectangle talk static method\")"
   ]
  },
  {
   "cell_type": "markdown",
   "metadata": {},
   "source": [
    "Congratulations, you've reched the end of this notebook. =)"
   ]
  }
 ],
 "metadata": {
  "kernelspec": {
   "display_name": "Python [conda env:CMAP]",
   "language": "python",
   "name": "conda-env-CMAP-py"
  },
  "language_info": {
   "codemirror_mode": {
    "name": "ipython",
    "version": 3
   },
   "file_extension": ".py",
   "mimetype": "text/x-python",
   "name": "python",
   "nbconvert_exporter": "python",
   "pygments_lexer": "ipython3",
   "version": "3.5.3"
  },
  "name": "1-python",
  "notebookId": 2466858938364006
 },
 "nbformat": 4,
 "nbformat_minor": 2
}
