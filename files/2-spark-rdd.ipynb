{
 "cells": [
  {
   "cell_type": "markdown",
   "metadata": {},
   "source": [
    "# Introduction to Spark programming"
   ]
  },
  {
   "cell_type": "markdown",
   "metadata": {},
   "source": [
    "# Word Count\n",
    "\n",
    "The \"Hello World!\" of distributed programming is the wordcount. Basically, you want to count easily number of different words contained in an unstructured text. You will write some code to perform this task on the [Complete Works of William Shakespeare](http://www.gutenberg.org/ebooks/100) retrieved from [Project Gutenberg](http://www.gutenberg.org/wiki/Main_Page).\n",
    "\n",
    "[Spark's Python API reference](https://spark.apache.org/docs/latest/api/python/pyspark.html#pyspark.RDD) could provide some help\n",
    "\n",
    "### ** Part 1: Creating a base RDD and pair RDDs **\n",
    "\n",
    "#### In this part of the lab, we will explore creating a base RDD with `parallelize` and using pair RDDs to count words.\n",
    "\n",
    "#### We'll start by generating a base RDD by using a Python list and the `sc.parallelize` method.  Then we'll print out the type of the base RDD."
   ]
  },
  {
   "cell_type": "code",
   "execution_count": 3,
   "metadata": {
    "collapsed": true
   },
   "outputs": [],
   "source": [
    "# Please run this cell to load the Test class\n",
    "from test_helper import Test"
   ]
  },
  {
   "cell_type": "code",
   "execution_count": 4,
   "metadata": {
    "collapsed": false
   },
   "outputs": [],
   "source": [
    "words_list = ['we', 'few', 'we', 'happy', 'few', \"we\", \"band\", \"of\", \"brothers\"]\n",
    "words_RDD = sc.parallelize(words_list, 4)\n",
    "\n",
    "# Print the type of words_RDD\n",
    "print(type(words_RDD))"
   ]
  },
  {
   "cell_type": "markdown",
   "metadata": {},
   "source": [
    "We want to capitalize each word contained in a RDD. For such transformation, we use a `map`, as we want to transform a RDD of **n** elements into another RDD of **n** using a function that gets and returns one single element.\n",
    "\n",
    "Please implement `capitalize`function in the cell below."
   ]
  },
  {
   "cell_type": "code",
   "execution_count": 6,
   "metadata": {
    "collapsed": false
   },
   "outputs": [],
   "source": [
    "def capitalize(word):\n",
    "    \"\"\"Capitalize lowercase `words`.\n",
    "\n",
    "    Args:\n",
    "        word (str): A lowercase string.\n",
    "\n",
    "    Returns:\n",
    "        str: A string which first letter is uppercase.\n",
    "    \"\"\"\n",
    "    return word.capitalize()\n",
    "\n",
    "print(capitalize('we'))\n",
    "\n",
    "Test.assertEquals(capitalize('we'), 'We', \"Capitalize\")"
   ]
  },
  {
   "cell_type": "markdown",
   "metadata": {},
   "source": [
    "Apply `capitalize` to the base RDD, using a [map()](http://spark.apache.org/docs/latest/api/python/pyspark.html#pyspark.RDD.map) transformation that applies the `capitalize()` function to each element. Then call the [collect()](http://spark.apache.org/docs/latest/api/python/pyspark.html#pyspark.RDD.collect) action to retrieve the values of the transformed RDD, and print them."
   ]
  },
  {
   "cell_type": "code",
   "execution_count": 8,
   "metadata": {
    "collapsed": false
   },
   "outputs": [],
   "source": [
    "capital_RDD = ???\n",
    "local_result = ???\n",
    "print(local_result)\n",
    "\n",
    "Test.assertEqualsHashed(local_result, 'bd73c54004cc9655159aceb703bc14fe93369fb1',\n",
    "                        'incorrect value for local_data')"
   ]
  },
  {
   "cell_type": "markdown",
   "metadata": {},
   "source": [
    "Do the same using a lambda function"
   ]
  },
  {
   "cell_type": "code",
   "execution_count": 10,
   "metadata": {
    "collapsed": false
   },
   "outputs": [],
   "source": [
    "capital_lambda_RDD = ???\n",
    "local_result = ???\n",
    "print(local_result)\n",
    "\n",
    "Test.assertEqualsHashed(local_result, 'bd73c54004cc9655159aceb703bc14fe93369fb1',\n",
    "                        'incorrect value for capital_lambda_RDD')"
   ]
  },
  {
   "cell_type": "markdown",
   "metadata": {},
   "source": [
    "Now use `map()` and a `lambda` function to return the number of characters in each word, and `collect` this result directly into a variable."
   ]
  },
  {
   "cell_type": "code",
   "execution_count": 12,
   "metadata": {
    "collapsed": false
   },
   "outputs": [],
   "source": [
    "plural_lengths = (capital_RDD.???.collect())\n",
    "print(plural_lengths)\n",
    "\n",
    "Test.assertEqualsHashed(plural_lengths, '0772853c8e180c1bed8cfe9bde35aae79b277381',\n",
    "                  'incorrect values for plural_lengths')"
   ]
  },
  {
   "cell_type": "markdown",
   "metadata": {},
   "source": [
    "To program a wordcount, we will need `pair RDD` objects. A pair RDD is an RDD where each element is a pair tuple `(k, v)` where `k` is the key and `v` is the value. In this example, we will create a pair consisting of `('<word>', 1)` for each word element in the RDD.\n",
    "\n",
    "Create the pair RDD using the `map()` transformation with a `lambda()` on `words_RDD`."
   ]
  },
  {
   "cell_type": "code",
   "execution_count": 14,
   "metadata": {
    "collapsed": false
   },
   "outputs": [],
   "source": [
    "words_pair_RDD = words_RDD.???\n",
    "print(words_pair_RDD.collect())\n",
    "\n",
    "Test.assertEqualsHashed(words_pair_RDD.collect(), 'fb67a530034e01395386569ef29bf5565b503ec6',\n",
    "                        \"incorrect value for wrods_pair_RDD\")"
   ]
  },
  {
   "cell_type": "markdown",
   "metadata": {},
   "source": [
    "Now, let's count the number of times a particular word appears in the RDD. There are multiple ways to perform the counting, but some are much less efficient or scalable than others.\n",
    "\n",
    "A naive approach would be to `collect()` all of the elements and count them in the driver program. While this approach could work for small datasets, it is not scalable as the result of `collect()` would have to fit in the driver's memory. When you should use `collect()` with care, always asking yourself what is the size of data you want to retrieve.\n",
    "\n",
    "In order to program a scalable wordcount, you will need to use parallel operations.\n",
    "\n",
    "#### `groupByKey()` approach\n",
    "\n",
    "An approach you might first consider is based on using the [groupByKey()](http://spark.apache.org/docs/latest/api/python/pyspark.html#pyspark.RDD.groupByKey) transformation. This transformation groups all the elements of the RDD with the same key into a single list, stored in one of the partitions. \n",
    " \n",
    "Use `groupByKey()` on `words_pair_RDD`\n",
    " to generate a pair RDD of type `('word', list)`."
   ]
  },
  {
   "cell_type": "code",
   "execution_count": 16,
   "metadata": {
    "collapsed": false
   },
   "outputs": [],
   "source": [
    "words_grouped = words_pair_RDD.???\n",
    "\n",
    "for key, value in words_grouped.collect():\n",
    "    print('{0}: {1}'.format(key, list(value)))\n",
    "    \n",
    "Test.assertEqualsHashed(sorted(words_grouped.mapValues(lambda x: list(x)).collect()),\n",
    "                  'fdaad77fd81ef2df23d98ff7fd438fa700ca1fcf',\n",
    "                  'incorrect value for words_grouped')"
   ]
  },
  {
   "cell_type": "markdown",
   "metadata": {},
   "source": [
    "Using the `groupByKey()` transformation results in an `pairRDD` containing words as keys, and Python iterators as values. Python iterators are a class of objects on which we can iterate, i.e.\n",
    "\n",
    "    a = some_iterator()\n",
    "    for elem in a:\n",
    "        # do stuff with elem\n",
    "\n",
    "Python lists and dictionnaries are iterators for example.\n",
    "\n",
    "Now sum the iterator using a `map()` transformation. The result should be a pair RDD consisting of (word, count) pairs.\n",
    "\n",
    "Hint: there exists a `sum` function\n",
    "Hint 2: you want to perform an operation only on the values of the pairRDD. Take a look at [mapValues()](http://spark.apache.org/docs/latest/api/python/pyspark.html#pyspark.RDD.mapValues)."
   ]
  },
  {
   "cell_type": "code",
   "execution_count": 18,
   "metadata": {
    "collapsed": false
   },
   "outputs": [],
   "source": [
    "word_grouped_counts = words_grouped.???\n",
    "print(word_grouped_counts.collect())\n",
    "\n",
    "Test.assertEqualsHashed(sorted(word_grouped_counts.collect()),\n",
    "                  'c20f05d36e98ae399b2cbe5b6cb9bf01b675455a',\n",
    "                  'incorrect value for word_grouped_counts')"
   ]
  },
  {
   "cell_type": "markdown",
   "metadata": {},
   "source": [
    "There are two problems with using `groupByKey()`:\n",
    "  + The operation requires a lot of data movement to move all the values into the appropriate partitions (remember the cost of network communications!).\n",
    "  + The lists can be very large. Consider a word count of English Wikipedia: the lists for common words (e.g., the, a, etc.) would be huge and could exhaust the available memory of a worker.\n",
    "\n",
    "A better approach is to start from the pair RDD and then use the [reduceByKey()](http://spark.apache.org/docs/latest/api/python/pyspark.html#pyspark.RDD.reduceByKey) transformation to create a new pair RDD. The `reduceByKey()` transformation gathers together pairs that have the same key and applies the function provided to two values at a time, iteratively reducing all of the values to a single value. `reduceByKey()` operates by applying the function first within each partition on a per-key basis and then across the partitions, allowing it to scale efficiently to large datasets.\n",
    "\n",
    "Compute the word count using `reduceByKey`"
   ]
  },
  {
   "cell_type": "code",
   "execution_count": 20,
   "metadata": {
    "collapsed": false
   },
   "outputs": [],
   "source": [
    "word_counts = words_pair_RDD.???\n",
    "print(word_counts.collect())\n",
    "\n",
    "Test.assertEqualsHashed(sorted(word_counts.collect()), 'c20f05d36e98ae399b2cbe5b6cb9bf01b675455a',\n",
    "                  'incorrect value for word_counts')"
   ]
  },
  {
   "cell_type": "markdown",
   "metadata": {},
   "source": [
    "You should be able to perform the word count by composing functions, resulting in a smaller code. Use the `map()` on word RDD to create a pair RDD, apply the `reduceByKey()` transformation, and `collect` in one statement."
   ]
  },
  {
   "cell_type": "code",
   "execution_count": 22,
   "metadata": {
    "collapsed": false
   },
   "outputs": [],
   "source": [
    "word_counts_collected = (words_RDD\n",
    "                         ???\n",
    "                         .collect()\n",
    "                        )\n",
    "\n",
    "print(word_counts_collected)\n",
    "\n",
    "Test.assertEqualsHashed(sorted(word_counts_collected), 'c20f05d36e98ae399b2cbe5b6cb9bf01b675455a',\n",
    "                  'incorrect value for word_counts_collected')"
   ]
  },
  {
   "cell_type": "markdown",
   "metadata": {},
   "source": [
    "Compute the number of unique words using one of the RDD you have already created."
   ]
  },
  {
   "cell_type": "code",
   "execution_count": 24,
   "metadata": {
    "collapsed": false
   },
   "outputs": [],
   "source": [
    "unique_words = ???\n",
    "print(unique_words)\n",
    "\n",
    "Test.assertEquals(unique_words, 6, 'incorrect count of unique_words')"
   ]
  },
  {
   "cell_type": "markdown",
   "metadata": {},
   "source": [
    "Use a `reduce()` action to sum the counts in `wordCounts` and then divide by the number of unique words to find the mean number of words per unique word in `word_counts`.  First `map()` RDD `word_counts`, which consists of (key, value) pairs, to an RDD of values."
   ]
  },
  {
   "cell_type": "code",
   "execution_count": 26,
   "metadata": {
    "collapsed": false
   },
   "outputs": [],
   "source": [
    "from operator import add\n",
    "total_count = (word_counts\n",
    "              .map(???)\n",
    "              .reduce(???))\n",
    "\n",
    "average = total_count / float(???)\n",
    "print(total_count)\n",
    "print(round(average, 2))\n",
    "\n",
    "Test.assertEquals(round(average, 2), 1.5, 'incorrect value of average')"
   ]
  },
  {
   "cell_type": "markdown",
   "metadata": {},
   "source": [
    "## Part 2: Apply word count to a file\n",
    "\n",
    "In this section we will finish developing our word count application.  We'll have to build the `word_count` function, deal with real world problems like capitalization and punctuation, load in our data source, and compute the word count on the new data.\n",
    "\n",
    "First, define a function for word counting. You should reuse the techniques that have been covered in earlier parts of this lab.  This function should take in an RDD that is a list of words like `words_RDD` and return a pair RDD that has all of the words and their associated counts."
   ]
  },
  {
   "cell_type": "code",
   "execution_count": 28,
   "metadata": {
    "collapsed": false
   },
   "outputs": [],
   "source": [
    "def word_count(word_list_RDD):\n",
    "    \"\"\"Creates a pair RDD with word counts from an RDD of words.\n",
    "\n",
    "    Args:\n",
    "        wordListRDD (RDD of str): An RDD consisting of words.\n",
    "\n",
    "    Returns:\n",
    "        RDD of (str, int): An RDD consisting of (word, count) tuples.\n",
    "    \"\"\"\n",
    "    ???\n",
    "\n",
    "print(word_count(words_RDD).collect())\n",
    "\n",
    "Test.assertEqualsHashed(sorted(word_count(words_RDD).collect()),\n",
    "                      'c20f05d36e98ae399b2cbe5b6cb9bf01b675455a',\n",
    "                      'incorrect definition for word_count function')"
   ]
  },
  {
   "cell_type": "markdown",
   "metadata": {},
   "source": [
    "Real world data is more complicated than the data we have been using in this lab. Some of the issues we have to address are:\n",
    "  + Words should be counted independent of their capitialization (e.g., Spark and spark should be counted as the same word).\n",
    "  + All punctuation should be removed.\n",
    "  + Any leading or trailing spaces on a line should be removed.\n",
    " \n",
    "Define the function `removePunctuation` that converts all text to lower case, removes any punctuation, and removes leading and trailing spaces.  Use the Python [re](https://docs.python.org/2/library/re.html) module to remove any text that is not a letter, number, or space. Reading `help(re.sub)` might be useful.\n",
    "\n",
    "If you have never used regex (regular expressions) before, you can refer to [Regular-expressions.info](http://www.regular-expressions.info/python.html)\n",
    "\n",
    "In order to test your regular expressions, you can use [Regex Tester](http://www.regexpal.com)\n",
    "\n",
    "Regex can be a bit obscure at beginning, don't hesitate to search in [StackOverflow](http://stackoverflow.com) or to ask me for some help."
   ]
  },
  {
   "cell_type": "code",
   "execution_count": 30,
   "metadata": {
    "collapsed": false
   },
   "outputs": [],
   "source": [
    "import re\n",
    "import string\n",
    "\n",
    "# Hint: string.punctuation contains all the punctuation symbols\n",
    "\n",
    "def remove_punctuation(text):\n",
    "    \"\"\"Removes punctuation, changes to lower case, and strips leading and trailing spaces.\n",
    "\n",
    "    Note:\n",
    "        Only spaces, letters, and numbers should be retained.  Other characters should should be\n",
    "        eliminated (e.g. it's becomes its).  Leading and trailing spaces should be removed after\n",
    "        punctuation is removed.\n",
    "\n",
    "    Args:\n",
    "        text (str): A string.\n",
    "\n",
    "    Returns:\n",
    "        str: The cleaned up string.\n",
    "    \"\"\"\n",
    "    ???\n",
    "\n",
    "print(remove_punctuation('Hello World!'))\n",
    "print(remove_punctuation(' No under_score!'))\n",
    "\n",
    "Test.assertEquals(remove_punctuation(\"  Remove punctuation: there ARE trailing spaces. \"),\n",
    "                  'remove punctuation there are trailing spaces',\n",
    "                  'incorrect definition for remove_punctuation function')"
   ]
  },
  {
   "cell_type": "markdown",
   "metadata": {},
   "source": [
    "For the next part of this lab, we will use the [Complete Works of William Shakespeare](http://www.gutenberg.org/ebooks/100) from [Project Gutenberg](http://www.gutenberg.org/wiki/Main_Page). To convert a text file into an RDD, we use the `SparkContext.textFile()` method. We also apply the recently defined `remove_punctuation()` function using a `map()` transformation to strip out the punctuation and change all text to lowercase.  Since the file is large we use `take(15)`, instead of `collect()` so that we only print 15 lines.\n",
    "\n",
    "Take a look at [zipWithIndex()](http://spark.apache.org/docs/latest/api/python/pyspark.html#pyspark.RDD.zipWithIndex) and [take()](http://spark.apache.org/docs/latest/api/python/pyspark.html#pyspark.RDD.take) to understand the print statement"
   ]
  },
  {
   "cell_type": "code",
   "execution_count": 32,
   "metadata": {
    "collapsed": false
   },
   "outputs": [],
   "source": [
    "file_path = '/FileStore/tables/shakespeare.txt'\n",
    "\n",
    "shakespeare_RDD = (sc.textFile(file_path, 8)\n",
    "                     .map(remove_punctuation))\n",
    "\n",
    "print('\\n'.join(shakespeare_RDD\n",
    "                .zipWithIndex()  # to (line, lineNum) pairRDD\n",
    "                .map(lambda (l, num): '{0}: {1}'.format(num, l))  # to 'lineNum: line'\n",
    "                .take(15)))"
   ]
  },
  {
   "cell_type": "markdown",
   "metadata": {},
   "source": [
    "Before we can use the `word_count()` function, we have to address two issues with the format of the RDD:\n",
    "  + #### The first issue is that  that we need to split each line by its spaces.\n",
    "  + #### The second issue is we need to filter out empty lines.\n",
    " \n",
    "Apply a transformation that will split each element of the RDD by its spaces. For each element of the RDD, you should apply Python's string [split()](https://docs.python.org/2/library/string.html#string.split) function. You might think that a [map()](http://spark.apache.org/docs/latest/api/python/pyspark.html#pyspark.RDD.map) transformation is the way to do this, but think about what the result of the `split()` function will be: there is a better option.\n",
    "\n",
    "Hint: remember the problem we had with `GroupByKey()`"
   ]
  },
  {
   "cell_type": "code",
   "execution_count": 34,
   "metadata": {
    "collapsed": false
   },
   "outputs": [],
   "source": [
    "shakespeare_words_RDD = shakespeare_RDD.???\n",
    "shakespeare_word_count_elem = shakespeare_words_RDD.count()\n",
    "print shakespeare_words_RDD.top(5)\n",
    "print shakespeare_word_count_elem\n",
    "\n",
    "# This test allows for leading spaces to be removed either before or after\n",
    "# punctuation is removed.\n",
    "Test.assertTrue(shakespeare_word_count_elem == 927631 or shakespeare_word_count_elem == 928908,\n",
    "                'incorrect value for shakespeare_word_count_elem')\n",
    "\n",
    "Test.assertEqualsHashed(shakespeare_words_RDD.top(5),\n",
    "                  'f177c26ee0bc3a48368d7a92c08dd754237c3558',\n",
    "                  'incorrect value for shakespeare_words_RDD')"
   ]
  },
  {
   "cell_type": "markdown",
   "metadata": {},
   "source": [
    "The next step is to filter out the empty elements.  Remove all entries where the word is `''`."
   ]
  },
  {
   "cell_type": "code",
   "execution_count": 36,
   "metadata": {
    "collapsed": false
   },
   "outputs": [],
   "source": [
    "shakespeare_nonempty_words_RDD = shakespeare_words_RDD.???\n",
    "shakespeare_nonempty_word_elem_count = shakespeare_nonempty_words_RDD.count()\n",
    "print(shakespeare_nonempty_word_elem_count)\n",
    "\n",
    "Test.assertEquals(shakespeare_nonempty_word_elem_count, 882996, \n",
    "                  'incorrect value for shakespeare_nonempty_word_elem_count')"
   ]
  },
  {
   "cell_type": "markdown",
   "metadata": {},
   "source": [
    "You now have an RDD that contains only words.  Next, apply the `word_count()` function to produce a list of word counts. We can view the top 15 words by using the `takeOrdered()` action. However, since the elements of the RDD are pairs, you will need a custom sort function that sorts using the value part of the pair.\n",
    "\n",
    "Use the `wordCount()` function and `takeOrdered()` to obtain the fifteen most common words and their counts."
   ]
  },
  {
   "cell_type": "code",
   "execution_count": 38,
   "metadata": {
    "collapsed": false
   },
   "outputs": [],
   "source": [
    "top15_words = ???\n",
    "print('\\n'.join(map(lambda (w, c): '{0}: {1}'.format(w, c), top15_words)))"
   ]
  },
  {
   "cell_type": "code",
   "execution_count": 39,
   "metadata": {
    "collapsed": false
   },
   "outputs": [],
   "source": [
    "Test.assertEqualsHashed(top15_words,\n",
    "                  'fbb4c8c74f98eeef70d021893f276231dfff55cb',\n",
    "                  'incorrect value for top15WordsAndCounts')"
   ]
  },
  {
   "cell_type": "markdown",
   "metadata": {},
   "source": [
    "You will notice that many of the words are common English words. These are called stopwords. In practice, when we do natural language processing, we filter these stopwords as they do not contain a lot of information."
   ]
  }
 ],
 "metadata": {
  "kernelspec": {
   "display_name": "Python [conda env:CMAP]",
   "language": "python",
   "name": "conda-env-CMAP-py"
  },
  "language_info": {
   "codemirror_mode": {
    "name": "ipython",
    "version": 3
   },
   "file_extension": ".py",
   "mimetype": "text/x-python",
   "name": "python",
   "nbconvert_exporter": "python",
   "pygments_lexer": "ipython3",
   "version": "3.5.3"
  },
  "name": "2-spark-rdd",
  "notebookId": 2466858938364087
 },
 "nbformat": 4,
 "nbformat_minor": 2
}
