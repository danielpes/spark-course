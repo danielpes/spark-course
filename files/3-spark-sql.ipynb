{
 "cells": [
  {
   "cell_type": "markdown",
   "metadata": {},
   "source": [
    "# Spark SQL and DataFrames"
   ]
  },
  {
   "cell_type": "markdown",
   "metadata": {},
   "source": [
    "### 1. Basic manipulations\n",
    "First, let's create some users:"
   ]
  },
  {
   "cell_type": "code",
   "execution_count": 3,
   "metadata": {},
   "outputs": [],
   "source": [
    "from datetime import date\n",
    "\n",
    "# Let's first create some users:\n",
    "col_names = [\"first_name\", \"last_name\", \"birth_date\", \"gender\", \"country\"]\n",
    "users = [\n",
    "  (\"Alice\", \"Jones\", date(1981, 4, 15), \"female\", \"Canada\"),\n",
    "  (\"John\", \"Doe\", date(1951, 1, 21), \"male\", \"USA\"),\n",
    "  (\"Barbara\", \"May\", date(1951, 9, 1), \"female\", \"Australia\"),\n",
    "  (\"James\", \"Smith\", date(1975, 7, 12), \"male\", \"United Kingdom\"),\n",
    "  (\"Gerrard\", \"Dupont\", date(1968, 5, 9), \"male\", \"France\"),\n",
    "  (\"Amanda\", \"B.\", date(1988, 12, 16), \"female\", \"New Zeland\")\n",
    "]\n",
    "\n",
    "users_df = spark.createDataFrame(users, col_names)\n",
    "display(users_df) # Only works in Databricks. Elswehere, use \"df.show()\" or \"df.toPandas()\""
   ]
  },
  {
   "cell_type": "markdown",
   "metadata": {},
   "source": [
    "Now it's your turn, create more users (at least 3, with different names) and add to the initial users, saving the result in a new variable."
   ]
  },
  {
   "cell_type": "code",
   "execution_count": 5,
   "metadata": {},
   "outputs": [],
   "source": [
    "new_users_df = ???\n",
    "all_users_df = ???\n",
    "display(all_users_df) # or all_users_df.show()"
   ]
  },
  {
   "cell_type": "markdown",
   "metadata": {},
   "source": [
    "Now, select only two columns and show the resulting DataFrame, without saving it into a variable."
   ]
  },
  {
   "cell_type": "code",
   "execution_count": 7,
   "metadata": {},
   "outputs": [],
   "source": [
    "all_users_df.???"
   ]
  },
  {
   "cell_type": "markdown",
   "metadata": {},
   "source": [
    "Now, register your DataFrame as a table and select the same two columns with a SQL query string"
   ]
  },
  {
   "cell_type": "code",
   "execution_count": 9,
   "metadata": {},
   "outputs": [],
   "source": [
    "query_string = \"???\"\n",
    "all_users_df.??? # creates a local temporary table accessible by a SQL query\n",
    "spark.sql(query_string).show()"
   ]
  },
  {
   "cell_type": "markdown",
   "metadata": {},
   "source": [
    "Now we want to add an unique identifier for each user in the table. There are many strategies for that, and for our example we will use the string `{last_name}_{first_name}`\n",
    "\n",
    "You can use `all_users_df` since your latest operation did not override its values. Add a new column called `user_id` to your DataFrame and save to a new variable.\n",
    "\n",
    "**Hint:** The first place to look is in the [functions](http://spark.apache.org/docs/latest/api/python/pyspark.sql.html#module-pyspark.sql.functions) package"
   ]
  },
  {
   "cell_type": "code",
   "execution_count": 11,
   "metadata": {},
   "outputs": [],
   "source": [
    "from pyspark.sql import functions as fn\n",
    "\n",
    "users_with_id = ???\n",
    "display(users_with_id)"
   ]
  },
  {
   "cell_type": "markdown",
   "metadata": {},
   "source": [
    "You can also do the same thing with an User Defined Function by passing a lambda, although it is not recommended when there is already a function in the `functions` package.\n",
    "\n",
    "Add a new column called `user_id_udf` to the DataFrame, using an UDF that receives two parameters and concatenate them."
   ]
  },
  {
   "cell_type": "code",
   "execution_count": 13,
   "metadata": {},
   "outputs": [],
   "source": [
    "concat_udf = fn.udf(???)\n",
    "users_with_id_udf = ???\n",
    "display(users_with_id_udf)"
   ]
  },
  {
   "cell_type": "markdown",
   "metadata": {},
   "source": [
    "Now, let's add another column called `age` with the computed age (in years) of each user, based on a given reference date, and save the resulting DataFrame into a new variable.\n",
    "\n",
    "**Hint:** You can first compute the age in months, and then divide by 12. A final operation will probably be needed to get an integer number."
   ]
  },
  {
   "cell_type": "code",
   "execution_count": 15,
   "metadata": {},
   "outputs": [],
   "source": [
    "reference_date = date(2017, 12, 31)\n",
    "\n",
    "users_with_age = ???\n",
    "display(users_with_age)"
   ]
  },
  {
   "cell_type": "markdown",
   "metadata": {},
   "source": [
    "Now, an analytical question: How many users of each gender who are more than 40 years old exist in this data? The solution must be a DataFrame with two columns: `age` and `count` and two lines, one for each gender.\n",
    "\n",
    "Bonus: Try to do your solution in a single chain (without intermediate variables)\n",
    "\n",
    "**Hint:** You will need to filter and aggregate the data."
   ]
  },
  {
   "cell_type": "code",
   "execution_count": 17,
   "metadata": {},
   "outputs": [],
   "source": [
    "result = ???\n",
    "display(result)"
   ]
  },
  {
   "cell_type": "markdown",
   "metadata": {},
   "source": [
    "### 2. Reading files, performing joins, and aggregating\n",
    "\n",
    "For this section you will use some fake data of two datasets: `Users` and `Donations`. The data is provided in two CSV files *with header* and using *comma* as separator.\n",
    "\n",
    "The `Users` dataset contains information about about the users. \n",
    "\n",
    "The `Donations` dataset contains information about Donations performed by those users.\n",
    "\n",
    "The first task is to read these files into the appropriate DataFrames.\n",
    "\n",
    "**Note:** You need to set the option \"inferSchema\" to true in order to have the columns in the correct types.\n",
    "\n",
    "_The data for this section has been created using [Mockaroo](https://www.mockaroo.com/)_."
   ]
  },
  {
   "cell_type": "code",
   "execution_count": 19,
   "metadata": {},
   "outputs": [],
   "source": [
    "users_from_file = spark.read.???\n",
    "donations = spark.read.???"
   ]
  },
  {
   "cell_type": "markdown",
   "metadata": {},
   "source": [
    "Now investigate the columns, contents and size of both datasets"
   ]
  },
  {
   "cell_type": "code",
   "execution_count": 21,
   "metadata": {},
   "outputs": [],
   "source": [
    "# print the column names and types\n",
    "users_from_file.???\n",
    "donations.??? \n",
    "\n",
    "# print 5 elements of the datasets in a tabular format\n",
    "users_from_file.???\n",
    "donations.???\n",
    "\n",
    "# print the number of lines of each dataset\n",
    "print users_from_file.???\n",
    "print donations.???"
   ]
  },
  {
   "cell_type": "markdown",
   "metadata": {},
   "source": [
    "**Note:** If all the column types shown in the previous results are \"string\", you need to make sure you passed \"inferSchema\" as true when reading the CSV files before continuing.\n",
    "\n",
    "Before using the data, we may want to add some information about the users. \n",
    "\n",
    "Add a column containing the age of each user."
   ]
  },
  {
   "cell_type": "code",
   "execution_count": 23,
   "metadata": {},
   "outputs": [],
   "source": [
    "users_from_file = users_from_file.???\n",
    "users_from_file.show()"
   ]
  },
  {
   "cell_type": "markdown",
   "metadata": {},
   "source": [
    "Another useful information to have is the age **range** of each user. Using the `when` function, create the following 5 age ranges:\n",
    "- \"(0, 25]\"\n",
    "- \"(25, 35]\"\n",
    "- \"(35, 45]\"\n",
    "- \"(45, 55]\"\n",
    "- \"(55, ~]\"\n",
    "\n",
    "And add a new column to the users DataFrame, containing this information.\n",
    "\n",
    "**Note:** When building logical operations with Spark DataFrames, it's better to be add parantheses. Example:\n",
    "```python\n",
    "df.select(\"name\", \"age\").where( (df(\"age\") > 20) & (df(\"age\") <= 30) )\n",
    "```\n",
    "\n",
    "**Note 2:** If you are having problems with the `when` function, you can make an User Defined Function and do your logic in standard python."
   ]
  },
  {
   "cell_type": "code",
   "execution_count": 25,
   "metadata": {},
   "outputs": [],
   "source": [
    "users_from_file = users_from_file.???\n",
    "users_from_file.show()"
   ]
  },
  {
   "cell_type": "markdown",
   "metadata": {},
   "source": [
    "Now that we have improved our users' DataFrame, the first analysis we want to make is the average donation performed by each gender. However, the gender information and the donation value are in different tables, so first we need to join them, using the `user_id` as joining key.\n",
    "\n",
    "**Note:** Make sure you are not using the `users` DataFrame from the first part of the lab.\n",
    "\n",
    "**Note 2:** For better performance, you can [broadcast](http://spark.apache.org/docs/latest/api/python/pyspark.sql.html#pyspark.sql.functions.broadcast) the smaller dataset. But you should only do this when you are sure the DataFrame fits in the memory of the nodes."
   ]
  },
  {
   "cell_type": "code",
   "execution_count": 27,
   "metadata": {},
   "outputs": [],
   "source": [
    "joined_df = ???\n",
    "display(joined_df)"
   ]
  },
  {
   "cell_type": "markdown",
   "metadata": {},
   "source": [
    "Now, use aggregation to find the the min, max and avg donation by gender."
   ]
  },
  {
   "cell_type": "code",
   "execution_count": 29,
   "metadata": {},
   "outputs": [],
   "source": [
    "donations_by_gender = joined_df.???\n",
    "donations_by_gender.show()"
   ]
  },
  {
   "cell_type": "markdown",
   "metadata": {},
   "source": [
    "Now, make the necessary transformations and aggregations to answer to the following questions about the data. Note that some questions are only about the users, so make sure to use the smaller possible dataset when looking for your answers!\n",
    "\n",
    "**Question 1:** \n",
    "\n",
    "a) What's the average, min and max age of the users? \n",
    "\n",
    "b) What's the average, min and max age of the users, by gender?"
   ]
  },
  {
   "cell_type": "code",
   "execution_count": 31,
   "metadata": {},
   "outputs": [],
   "source": [
    "result_1a = ???\n",
    "result_1a.show()\n",
    "\n",
    "result_1b = ???\n",
    "result_1b.show()"
   ]
  },
  {
   "cell_type": "markdown",
   "metadata": {},
   "source": [
    "**Question 2:**\n",
    "\n",
    "a) How many distinct country origins exist in the data? Print a DataFrame listing them.\n",
    "\n",
    "b) What are the top 5 countries with the most users? Print a DataFrame containing the name of the countries and the counts."
   ]
  },
  {
   "cell_type": "code",
   "execution_count": 33,
   "metadata": {},
   "outputs": [],
   "source": [
    "result_2a = ???\n",
    "result_2a.show()\n",
    "\n",
    "result_2b = ???\n",
    "result_2b.show()"
   ]
  },
  {
   "cell_type": "markdown",
   "metadata": {},
   "source": [
    "**Question 3:**\n",
    "\n",
    "What's the number of donations average, min and max donations values by age range?"
   ]
  },
  {
   "cell_type": "code",
   "execution_count": 35,
   "metadata": {},
   "outputs": [],
   "source": [
    "result_3 = ???\n",
    "result_3.show()"
   ]
  },
  {
   "cell_type": "markdown",
   "metadata": {},
   "source": [
    "**Question 4:**\n",
    "\n",
    "a) What's the number of donations, average, min and max donation values by user location (country)?\n",
    "\n",
    "b) What is the number of donations, average, min and max donation values by gender for each user location (contry)? (the resulting DataFrame must contain 5 columns: the gender of the user, their country and the 3 metrics)"
   ]
  },
  {
   "cell_type": "code",
   "execution_count": 37,
   "metadata": {},
   "outputs": [],
   "source": [
    "result_4a = ???\n",
    "result_4a.show()\n",
    "\n",
    "result_4b = ???\n",
    "result_4b.show()"
   ]
  },
  {
   "cell_type": "markdown",
   "metadata": {},
   "source": [
    "**Question 5**\n",
    "\n",
    "Which month of the year has the largest aggregated donation value?\n",
    "\n",
    "**Hint**: you can use a function to extract the month from a date, then you can aggregate to find the total donation value."
   ]
  },
  {
   "cell_type": "code",
   "execution_count": 39,
   "metadata": {},
   "outputs": [],
   "source": [
    "result_5 = ???"
   ]
  },
  {
   "cell_type": "markdown",
   "metadata": {},
   "source": [
    "### 3. Window Functions\n",
    "\n",
    "_This section uses the same data as the last one._\n",
    "\n",
    "Window functions are very useful for gathering aggregated data without actually aggregating the DataFrame. They can also be used to find \"previous\" and \"next\" information for entities, such as an user. [This article](https://databricks.com/blog/2015/07/15/introducing-window-functions-in-spark-sql.html) has a very nice explanation about the concept."
   ]
  },
  {
   "cell_type": "markdown",
   "metadata": {},
   "source": [
    "We want to find the users who donated less than a threshold and remove them from the donations dataset. Now, there are two ways of doing that:\n",
    "\n",
    "1) Performing a traditional aggregation to find the users who donated less than the threshold, then filtering these users from the donations dataset, either with `where(not(df(\"user_id\").isin(a_local_list)))` or with a join of type \"anti-join\".\n",
    "\n",
    "2) Using window functions to add a new column with the aggregated donations per user, and then using a normal filter such as `where(aggregated_donation < threshold)`\n",
    "\n",
    "Let's implement both and compare the complexity:\n",
    "\n",
    "First, perform the traditional aggregation and find the users who donated less than 500 in total:"
   ]
  },
  {
   "cell_type": "code",
   "execution_count": 42,
   "metadata": {},
   "outputs": [],
   "source": [
    "bad_users = joined_df.???\n",
    "bad_users.show()"
   ]
  },
  {
   "cell_type": "markdown",
   "metadata": {},
   "source": [
    "You should have found around 10 users. Now, perform an \"anti-join\" to remove those users from `joined_df`.\n",
    "\n",
    "**Hint:** The `join` operation accepts a third argument which is the join type. The accepted values are: 'inner', 'outer', 'full', 'fullouter', 'leftouter', 'left', 'rightouter', 'right', 'leftsemi', 'leftanti', 'cross'."
   ]
  },
  {
   "cell_type": "code",
   "execution_count": 44,
   "metadata": {},
   "outputs": [],
   "source": [
    "good_donations = joined_df.???\n",
    "good_donations.count()"
   ]
  },
  {
   "cell_type": "markdown",
   "metadata": {},
   "source": [
    "Verify if the count of `good_donations` makes sense by performing a normal join to find the `bad_donations`."
   ]
  },
  {
   "cell_type": "code",
   "execution_count": 46,
   "metadata": {},
   "outputs": [],
   "source": [
    "bad_donations = joined_df.???\n",
    "bad_donations.count()"
   ]
  },
  {
   "cell_type": "markdown",
   "metadata": {},
   "source": [
    "If you done everything right, at this point `good_donations.count()` + `bad_donations.count()` = `joined_df.count()`.\n",
    "\n",
    "But using the join approach can be very heavy and it requires multipe operations. For this kind of problems, Window Functions are better."
   ]
  },
  {
   "cell_type": "code",
   "execution_count": 48,
   "metadata": {},
   "outputs": [],
   "source": [
    "good_donations.count() + bad_donations.count() == joined_df.count()"
   ]
  },
  {
   "cell_type": "markdown",
   "metadata": {},
   "source": [
    "The first step is to create your window specification over `user_id` by using partitionBy"
   ]
  },
  {
   "cell_type": "code",
   "execution_count": 50,
   "metadata": {},
   "outputs": [],
   "source": [
    "from pyspark.sql import Window\n",
    "\n",
    "window_spec = Window.???"
   ]
  },
  {
   "cell_type": "markdown",
   "metadata": {},
   "source": [
    "Then, you can use one of the window functions of the `pyspark.sql.functions` package, appling to the created window_spec by using the `over` method. \n",
    "\n",
    "**Hint:** If you are blocked, try looking at the [documentation](http://spark.apache.org/docs/latest/api/python/pyspark.sql.html#pyspark.sql.Column.over) for the `over` method, or searching on StackOverflow."
   ]
  },
  {
   "cell_type": "code",
   "execution_count": 52,
   "metadata": {},
   "outputs": [],
   "source": [
    "new_column = ???.over(???)\n",
    "\n",
    "donations_with_total = joined_df.???\n",
    "donations_with_total.show()"
   ]
  },
  {
   "cell_type": "markdown",
   "metadata": {},
   "source": [
    "And now you can just filter on the `total_donated_by_user` column:"
   ]
  },
  {
   "cell_type": "code",
   "execution_count": 54,
   "metadata": {},
   "outputs": [],
   "source": [
    "good_donations_wf = donations_with_total.???\n",
    "good_donations_wf.count()"
   ]
  },
  {
   "cell_type": "markdown",
   "metadata": {},
   "source": [
    "If you done everything right, you should obtain `good_donations_wf.count()` = `good_donations.count()`"
   ]
  },
  {
   "cell_type": "code",
   "execution_count": 56,
   "metadata": {},
   "outputs": [],
   "source": [
    "good_donations_wf.count() == good_donations.count()"
   ]
  },
  {
   "cell_type": "markdown",
   "metadata": {},
   "source": [
    "Window functions also can be useful to find the \"next\" and \"previous\" operations by using `functions.lead` and `functions.lag`. In our example, we can use it to find the date interval between two donations by a specific user.\n",
    "\n",
    "For this kind of Window function, the window specification must be ordered by the date. So, create a new window specification partitioned by the `user_id` and ordered by the donation timestamp."
   ]
  },
  {
   "cell_type": "code",
   "execution_count": 58,
   "metadata": {},
   "outputs": [],
   "source": [
    "ordered_window = Window.???"
   ]
  },
  {
   "cell_type": "markdown",
   "metadata": {},
   "source": [
    "Now use `functions.lag().over()` to add a column with the timestamp of the previous donation of the same user. Then, inspect the result to see what it looks like."
   ]
  },
  {
   "cell_type": "code",
   "execution_count": 60,
   "metadata": {},
   "outputs": [],
   "source": [
    "new_column = ???.over(???)\n",
    "\n",
    "donations_with_lag = good_donations.???\n",
    "donations_with_lag.orderBy(\"user_id\", \"timestamp\").show()"
   ]
  },
  {
   "cell_type": "markdown",
   "metadata": {},
   "source": [
    "Finally, compute the average time it took for each user between two of their consecutive donations (in days), and print the 5 users with the smallest averages. The result must include at least the users' id, last name and birth date, as well as the computed average."
   ]
  },
  {
   "cell_type": "code",
   "execution_count": 62,
   "metadata": {},
   "outputs": [],
   "source": [
    "users_average_between_donations = donations_with_lag.???\n",
    "users_average_between_donations.show(5)"
   ]
  },
  {
   "cell_type": "markdown",
   "metadata": {},
   "source": [
    "Congratulations, you have finished this notebook!"
   ]
  }
 ],
 "metadata": {
  "kernelspec": {
   "display_name": "Python [conda env:CMAP]",
   "language": "python",
   "name": "conda-env-CMAP-py"
  },
  "language_info": {
   "codemirror_mode": {
    "name": "ipython",
    "version": 3
   },
   "file_extension": ".py",
   "mimetype": "text/x-python",
   "name": "python",
   "nbconvert_exporter": "python",
   "pygments_lexer": "ipython3",
   "version": "3.5.3"
  },
  "name": "3-spark-sql",
  "notebookId": 2466858938364381
 },
 "nbformat": 4,
 "nbformat_minor": 2
}
